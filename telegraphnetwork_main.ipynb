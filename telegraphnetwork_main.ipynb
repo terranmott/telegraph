{
  "nbformat": 4,
  "nbformat_minor": 0,
  "metadata": {
    "colab": {
      "name": "telegraphnetwork_main.ipynb",
      "provenance": [],
      "collapsed_sections": []
    },
    "kernelspec": {
      "name": "python3",
      "display_name": "Python 3"
    },
    "language_info": {
      "name": "python"
    }
  },
  "cells": [
    {
      "cell_type": "markdown",
      "source": [
        ""
      ],
      "metadata": {
        "id": "13H5rn02Hxu-"
      }
    },
    {
      "cell_type": "markdown",
      "metadata": {
        "id": "BJFltQq5xHCo"
      },
      "source": [
        "## **Code can help us tell a story about the telegraph network**\n",
        "\n",
        "On this document, you can create pieces of code and then run them one at a time. Each piece is called a \"cell.\" It is shown as a grey box. You can run a cell by clicking the little play (▶) button in the left-hand corner. :\n",
        "\n",
        "In this activity, you can use a programming language called Python to answer questions about the US telegraph network. First, you will run some cells that have pre-made code. Then, you can start to create code yourself!\n",
        "\n",
        "Before you get started, there are a few sample code cells to help you get the hang of how to run them. \n",
        "\n"
      ]
    },
    {
      "cell_type": "code",
      "metadata": {
        "id": "LqaygnCjxQt-"
      },
      "source": [
        "# Bits of this green text are called \"comments.\" The computer knows that \n",
        "# comments are different from code. When you click \"run,\" the computer ignores \n",
        "# any comments in a cell. This cell is only comments, so when you run it, \n",
        "# nothing will happen. Try it!"
      ],
      "execution_count": null,
      "outputs": []
    },
    {
      "cell_type": "code",
      "metadata": {
        "id": "A8nqDtzIzRVI"
      },
      "source": [
        "# This cell adds two numbers together. When you run this cell, you should see it\n",
        "# think for a moment and then show you the answer underneath\n",
        "\n",
        "3 + 4"
      ],
      "execution_count": null,
      "outputs": []
    },
    {
      "cell_type": "code",
      "metadata": {
        "id": "DlpMu9a1zqLo"
      },
      "source": [
        "# This cell makes a list of numbers called my_favorite_numbers. Then, it \"prints\"\n",
        "# the list, which means that it shows you the list underneath the cell. Try\n",
        "# changing a number in the list and running the cell again. \n",
        "\n",
        "my_favorite_numbers = [3, 6, 47, 500]\n",
        "print(my_favorite_numbers)"
      ],
      "execution_count": null,
      "outputs": []
    },
    {
      "cell_type": "markdown",
      "metadata": {
        "id": "gVEYiWRe0G1x"
      },
      "source": [
        "___________________________________\n"
      ]
    },
    {
      "cell_type": "markdown",
      "metadata": {
        "id": "NiLseB6F0Jy7"
      },
      "source": [
        "**Now, we're ready to get started. We are going to use a network data structure named tele_1846. In this graph/netowork, the nodes are cities and the edges are telegraph lines.**"
      ]
    },
    {
      "cell_type": "code",
      "metadata": {
        "id": "TN9m7zbH020O"
      },
      "source": [
        "# SETUP CELL | Don't make any changes in here, this is just setting things up\n",
        "import networkx as nx\n",
        "import matplotlib.pyplot as plt\n",
        "import numpy as np\n",
        "import math\n",
        "import copy\n",
        "tele1846 = nx.Graph()\n",
        "tele1846.add_edges_from([(\"Milwaukee\",\"Racine\"),(\"Racine\",\"Chicago\"),(\"Chicago\",\"Michigan City\"), (\"Michigan City\", \"South Bend\"),\n",
        "(\"South Bend\", \"Niles\"),(\"Niles\", \"Detroit\"), (\"Detroit\", \"Toledo\"), (\"Toledo\", \"Sandosky\"), (\"Sandosky\", \"Cleveland\"),\n",
        "(\"Cleveland\", \"Erie\"), (\"Erie\", \"Buffalo\"), (\"Buffalo\", \"Syracuse\"), (\"Syracuse\", \"Albany\"),\n",
        "(\"Albany\", \"New York\"), (\"Jersey City\", \"New York\",), (\"New York\", \"New Haven\"), (\"New Haven\", \"Springfield\"),\n",
        "(\"Springfield\", \"Worcester\"), (\"Worcester\", \"Boston\"), (\"Boston\", \"Manchester\"), (\"Manchester\", \"Portsmouth\"), (\"Portsmouth\", \"Dover\"),\n",
        "(\"Dover\", \"Manchester\"), (\"Dover\", \"Portland\"), (\"Jersey City\", \"Harrisburg\"), (\"Harrisburg\", \"Philadelpha\"), (\"Philadelpha\", \"Pittsburg\"),\n",
        "(\"Pittsburg\", \"Cleveland\"), (\"Pittsburg\", \"Zanesville\"), (\"Zanesville\", \"Columbus\"), (\"Columbus\", \"Cincinati\"),\n",
        "(\"Cincinati\", \"Louisville\"), (\"Philadelpha\", \"Wilmington\"), (\"Wilmington\", \"Baltimore\"), (\"Baltimore\", \"Washington DC\"), \n",
        "(\"Washington DC\", \"Petersburg\"), (\"Suffolk\", \"Petersburg\"), (\"Norfolk\", \"Petersburg\"), (\"Raleigh\", \"Petersburg\"),\n",
        "(\"Raleigh\", \"Feyettville\"),(\"Camden\", \"Feyettville\"),(\"Camden\", \"Columbia\"),(\"Charleston\", \"Columbia\") ,(\"Augusta\", \"Columbia\"),\n",
        "(\"Augusta\", \"Savannah\"), (\"Augusta\", \"Midville\"), (\"Macon\", \"Midville\"), (\"Macon\", \"Atlanta\"), (\"Macon\", \"Montgomery\")\n",
        ", (\"Mobile\", \"Montgomery\"), (\"Mobile\", \"New Orleans\")])\n",
        "\n",
        "def draw(G):\n",
        "  options = {\"edgecolors\": \"tab:gray\", \"node_size\": 100, \"alpha\": 0.9,}\n",
        "  nx.draw(G, pos=nx.spring_layout(G), with_labels = False, node_color=\"tab:pink\", **options)\n",
        "def drawAndLabel(G):\n",
        "  options = {\"edgecolors\": \"tab:gray\", \"node_size\": 100, \"alpha\": 0.9, \"font_size\": 8}\n",
        "  nx.draw(G,pos=nx.spring_layout(G), with_labels = True, node_color=\"tab:pink\", **options)\n",
        "def countLines(network, city):\n",
        "  d = network.degree(city)\n",
        "  print(\"the number of telegraph lines going in and out of \" + city + \" is: \" + str(d))\n",
        "def listCities(G, number):\n",
        "  alist = []\n",
        "  for node in G.nodes():\n",
        "    if G.degree(node) == number:\n",
        "      alist.append(node)\n",
        "  print(\"the list of cities with \" + str(number) + \" telegraph lines is \", alist)\n",
        "def findPaths(G, start, end):\n",
        "  i=1\n",
        "  paths = []\n",
        "  for path in nx.all_simple_paths(G, source=start, target=end):\n",
        "      print(\"path number \"+ str(i) + \" has \" + str(len(path)) + \" nodes:\")\n",
        "      print(path)\n",
        "      paths.append(path)\n",
        "      i=i+1\n",
        "  return paths\n",
        "def colorSet(G, path, color):\n",
        "  color_map = [color if node in path else 'gray' for node in G]    \n",
        "  options = {\"edgecolors\": \"tab:gray\", \"node_size\": 100, \"alpha\": 0.9, \"font_size\": 8}\n",
        "  nx.draw(G,pos=nx.spring_layout(G), with_labels = True, node_color=color_map, **options)\n",
        "def listNeighbors(G, city):\n",
        "  L = [n for n in tele1846.neighbors(city)]\n",
        "  print(\"the neighboring nodes of \" + city + \" are:\")\n",
        "  return L\n",
        "def removeCity(G, citylist):\n",
        "  new = copy.deepcopy(G)\n",
        "  for city in citylist:\n",
        "    new.remove_node(city)\n",
        "  print(\"Made a new network that doesn't have:\", citylist)\n",
        "  return new\n",
        "print(\"Setup competed\")"
      ],
      "execution_count": null,
      "outputs": []
    },
    {
      "cell_type": "markdown",
      "metadata": {
        "id": "8HdOUC1B7wee"
      },
      "source": [
        "**Now, we have created a network of telegraph lines\n",
        "in 1846 and put it into a form that the computer\n",
        "can understand. Next, you can try running some cells of code that answer different questions about the telegraph network**"
      ]
    },
    {
      "cell_type": "code",
      "metadata": {
        "id": "Cb3l_kEkRJEf"
      },
      "source": [
        "# CELL 2\n",
        "# python can count the number of edges and nodes in a graph, like this:\n",
        "print(\"nodes / cities in the telgraph network:\",  nx.number_of_nodes(tele1846))\n",
        "print(\"edges / telgraph lines in the network:\", nx.number_of_edges(tele1846))"
      ],
      "execution_count": null,
      "outputs": []
    },
    {
      "cell_type": "code",
      "metadata": {
        "id": "_4zQLCWp1kW2"
      },
      "source": [
        "# CELL 3\n",
        "# Draw a picture of the network by running this cell\n",
        "# What do you notice about it? Can you see any cycles? \n",
        "# If you re-run this cell, the network will show a slightly different picture\n",
        "draw(tele1846)"
      ],
      "execution_count": null,
      "outputs": []
    },
    {
      "cell_type": "code",
      "metadata": {
        "id": "l7oDQ9t18Pyj"
      },
      "source": [
        "# CELL 4\n",
        "# We can also draw the network with labels on the nodes\n",
        "# but it gets a little messy\n",
        "# How is this different from a map?\n",
        "drawAndLabel(tele1846)"
      ],
      "execution_count": null,
      "outputs": []
    },
    {
      "cell_type": "code",
      "metadata": {
        "id": "HMZ3erEL8f9G"
      },
      "source": [
        "# CELL 5\n",
        "# How many telegraph lines are there going in and out of these cities?\n",
        "# use the countLines function to find out\n",
        "\n",
        "countLines(tele1846, \"Boston\")\n",
        "countLines(tele1846, \"New Orleans\")"
      ],
      "execution_count": null,
      "outputs": []
    },
    {
      "cell_type": "code",
      "metadata": {
        "id": "o_7aPQUS9rMm"
      },
      "source": [
        "# CELL 6\n",
        "# Try it yourself, type in the name of another city in the quotes.\n",
        "# Some examples of cities in the network are: \"Baltimore\" \"Columbus\" \"Chicago\" \"Mobile\"\n",
        "# What happens if you try to type Denver?\n",
        "\n",
        "countLines(tele1846, \"your city\")"
      ],
      "execution_count": null,
      "outputs": []
    },
    {
      "cell_type": "code",
      "metadata": {
        "id": "sNdRU6DOZoAT"
      },
      "source": [
        "# CELL 7\n",
        "# How many cities have 2 telegraph lines going in and out?\n",
        "# use the listCities function to find out\n",
        "# try changing the number and seeing how many cities you get \n",
        "\n",
        "listCities(tele1846, 2)"
      ],
      "execution_count": null,
      "outputs": []
    },
    {
      "cell_type": "code",
      "metadata": {
        "id": "pAEpg2_p-TzM"
      },
      "source": [
        "# CELL 8\n",
        "# How many ways are there for a message to travel from Boston to Detroit?\n",
        "# use the findPaths function to find out\n",
        "\n",
        "# we are going to save these paths as a variable, which means that \n",
        "# we can use it later. Here, it is called Boston2Detroit\n",
        "\n",
        "Boston2Detroit = findPaths(tele1846, \"Boston\", \"Detroit\")\n"
      ],
      "execution_count": null,
      "outputs": []
    },
    {
      "cell_type": "code",
      "metadata": {
        "id": "5rgmtkTqHjqC"
      },
      "source": [
        "# CELL 9\n",
        "# the listNeighbors function finds all the adjecent nodes (the neighbors) \n",
        "# of a given city. Try swapping out the city here:\n",
        "\n",
        "listNeighbors(tele1846, \"New Orleans\")"
      ],
      "execution_count": null,
      "outputs": []
    },
    {
      "cell_type": "code",
      "metadata": {
        "id": "LYKY0avEbAwp"
      },
      "source": [
        "# CELL 10 part 1\n",
        "# What if we want certain nodes/cites to be a different color?\n",
        "# The colorSet function draws the network, but colors a list of \n",
        "# cities a different color. \n",
        "# colorSet needs to take in a list of cities. That means that it only\n",
        "# understands something that looks like [\"city1\", \"city2\"]\n",
        "\n",
        "# However! There are many ways to get a list of nodes. For example, \n",
        "# we can make one like this:\n",
        "\n",
        "colorSet(tele1846,[\"Atlanta\", \"New York\"], 'blue')"
      ],
      "execution_count": null,
      "outputs": []
    },
    {
      "cell_type": "code",
      "metadata": {
        "id": "GPUOPv3IMSOh"
      },
      "source": [
        "# CELL 10 part 2\n",
        "# or we can use a path, like one of the paths we\n",
        "# found in cell 8:\n",
        "\n",
        "colorSet(tele1846,Boston2Detroit[1], 'pink')"
      ],
      "execution_count": null,
      "outputs": []
    },
    {
      "cell_type": "code",
      "metadata": {
        "id": "QQLJYhvaMVYv"
      },
      "source": [
        "# CELL 10 part 3\n",
        "# or we can use a list of neighbors, like the \n",
        "# ones we found in cell 9\n",
        "\n",
        "colorSet(tele1846,listNeighbors(tele1846, \"New Orleans\"), 'green')"
      ],
      "execution_count": null,
      "outputs": []
    },
    {
      "cell_type": "code",
      "metadata": {
        "id": "dJksVoCzrHmN"
      },
      "source": [
        "# CELL 11\n",
        "# what if one or some of the cities in the netwok was gone?\n",
        "# the removeCity function lets you find out\n",
        "# removeCity makes a new network, so we need to give \n",
        "# it a new name, like no_boston\n",
        "\n",
        "no_boston = removeCity(tele1846, [\"Boston\"])\n",
        "\n",
        "# let's draw it too. what makes it different from before?\n",
        "draw(no_boston)"
      ],
      "execution_count": null,
      "outputs": []
    },
    {
      "cell_type": "markdown",
      "metadata": {
        "id": "zzcyZSl3dgf4"
      },
      "source": [
        "**Now, you can make some new cells and try using these different functions in your own way!**\n",
        "\n",
        "Here are some questions that you can answer with the functions in this notebook. You can explore any of them in any order, or try something else not on this list.\n",
        "\n",
        "- Which cities only have 1 telegraph line going in or out?\n",
        "- What is the shortest route from New York to Chicago? Can you color it?\n",
        "- If New York were removed from the network, would every city still be connected?\n",
        "- What about if New Orleans is removed?\n",
        "- Suppose that we say any city with more than 2 telegraph lines is a hub. How many hubs are there? Why do you think these cities are hubs?"
      ]
    },
    {
      "cell_type": "code",
      "metadata": {
        "id": "T0-2cLyQeKok"
      },
      "source": [
        "# YOUR CODE HERE :)"
      ],
      "execution_count": null,
      "outputs": []
    }
  ]
}