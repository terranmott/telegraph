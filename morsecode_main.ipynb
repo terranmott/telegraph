{
  "nbformat": 4,
  "nbformat_minor": 0,
  "metadata": {
    "colab": {
      "name": "morsecode_main.ipynb",
      "provenance": [],
      "collapsed_sections": []
    },
    "kernelspec": {
      "name": "python3",
      "display_name": "Python 3"
    },
    "language_info": {
      "name": "python"
    }
  },
  "cells": [
    {
      "cell_type": "markdown",
      "metadata": {
        "id": "uR8_VJtgQcSN"
      },
      "source": [
        "## **A Python Morse Code Translator**\n",
        "\n",
        "On this document, you can create pieces of code and then run them one at a time. Each piece is called a \"cell.\" It is shown as a grey box. You can run a cell by clicking the little play (▶) button in the left-hand corner. :\n",
        "\n",
        "In this activity, you can use a programming language called Python to make a morse code translator. This notebook has three main components. First, it has a dictionary called morse_dictionary. Then, it has functions to encrypt and decrypt messages. \n",
        "\n",
        "🔶🔶 **There's a catch!** 🔶🔶\n",
        "\n",
        " The dictionary is incomplete; it has some letters missing. In order to run a cell that encrypts or decrypts a message, you will have to discover which letters are missing and add them to the dictionary. \n",
        "\n"
      ]
    },
    {
      "cell_type": "code",
      "metadata": {
        "id": "kpFO9j7reeM2"
      },
      "source": [
        "# Here is the dictionary\n",
        "# Notice that the syntax for each entry in the dictionary is very specific.\n",
        "# In code, the word \"syntax\" means the way that punctuation is used to keep\n",
        "# things organized. \n",
        "\n",
        "morse_dictionary = {\n",
        "'a':'.-', \n",
        "'b':'-...',\n",
        "'c':'-.-.', \n",
        "'d':'-..', \n",
        "'e':'.',\n",
        "'f':'..-.', \n",
        "'h':'....',\n",
        "'i':'..', \n",
        "'j':'.---', \n",
        "'k':'-.-',\n",
        "'l':'.-..', \n",
        "'m':'--', \n",
        "'n':'-.',\n",
        "'o':'---', \n",
        "'p':'.--.', \n",
        "'q':'--.-',\n",
        "'r':'.-.', \n",
        "'s':'...', \n",
        "'t':'-',\n",
        "'u':'..-', \n",
        "'v':'...-', \n",
        "'w':'.--',\n",
        "'y':'-.--', \n",
        "'z':'--..',\n",
        "'1':'.----', \n",
        "'2':'..---', \n",
        "'3':'...--',\n",
        "'4':'....-', \n",
        "'5':'.....', \n",
        "'6':'-....',\n",
        "'7':'--...', \n",
        "'8':'---..', \n",
        "'9':'----.',\n",
        "'0':'-----', \n",
        "', ':'--..--', \n",
        "'.':'.-.-.-',\n",
        "'?':'..--..', \n",
        "'/':'-..-.', \n",
        "'-':'-....-',\n",
        "'(':'-.--.', \n",
        "')':'-.--.-'\n",
        "}"
      ],
      "execution_count": null,
      "outputs": []
    },
    {
      "cell_type": "code",
      "metadata": {
        "id": "QE5UxQ68epo0"
      },
      "source": [
        "# FUNCTIONS | Do not edit this cell. This cell contains functions that \n",
        "# encrypt and decrypt messages. You can call these functions later on \n",
        "def encrypt(message):\n",
        "\tcipher = ''\n",
        "\tfor letter in message:\n",
        "\t\tif letter != ' ':\n",
        "\t\t\tcipher += morse_dictionary[letter] + ' '\n",
        "\t\telse:\n",
        "\t\t\tcipher += ' '\n",
        "\treturn cipher\n",
        "\n",
        "def decrypt(message):\n",
        "\tmessage += ' '\n",
        "\tdecipher = ''\n",
        "\tcitext = ''\n",
        "\tfor letter in message:\n",
        "\t\tif (letter != ' '):\n",
        "\t\t\ti = 0\n",
        "\t\t\tcitext += letter\n",
        "\t\telse:\n",
        "\t\t\ti += 1\n",
        "\t\t\tif i == 2 :\n",
        "\t\t\t\tdecipher += ' '\n",
        "\t\t\telse:\n",
        "\t\t\t\t# accessing the keys using their values (reverse of encryption)\n",
        "\t\t\t\tdecipher += list(morse_dictionary.keys())[list(morse_dictionary.values()).index(citext)]\n",
        "\t\t\t\tcitext = ''\n",
        "\treturn decipher"
      ],
      "execution_count": null,
      "outputs": []
    },
    {
      "cell_type": "code",
      "metadata": {
        "id": "cYh6MvDxd88P",
        "outputId": "7da0dcc1-0dfe-4f53-f2b1-124b5ed2f5d8",
        "colab": {
          "base_uri": "https://localhost:8080/",
          "height": 35
        }
      },
      "source": [
        "# Run this cell! Here is an example of an encrypted message\n",
        "encrypt(\"it is chilly outside today\")"
      ],
      "execution_count": null,
      "outputs": [
        {
          "output_type": "execute_result",
          "data": {
            "application/vnd.google.colaboratory.intrinsic+json": {
              "type": "string"
            },
            "text/plain": [
              "'.. -  .. ...  -.-. .... .. .-.. .-.. -.--  --- ..- - ... .. -.. .  - --- -.. .- -.-- '"
            ]
          },
          "metadata": {},
          "execution_count": 3
        }
      ]
    },
    {
      "cell_type": "code",
      "metadata": {
        "id": "hjPTWn38P4cE"
      },
      "source": [
        "# Run this cell! Here is an example of a decrypted message\n",
        "decrypt('.. -  .. ...  -.-. .... .. .-.. .-.. -.--  --- ..- - ... .. -.. .  - --- -.. .- -.--')"
      ],
      "execution_count": null,
      "outputs": []
    },
    {
      "cell_type": "code",
      "metadata": {
        "id": "9GX8s1niR37I",
        "outputId": "2ee6bfbd-d097-4246-8fb4-ba68de9f8b76",
        "colab": {
          "base_uri": "https://localhost:8080/",
          "height": 305
        }
      },
      "source": [
        "# Run this cell! What happens when you try to decrypt this next message?\n",
        "encrypt(\"i like exploring in the woods\")"
      ],
      "execution_count": null,
      "outputs": [
        {
          "output_type": "error",
          "ename": "KeyError",
          "evalue": "ignored",
          "traceback": [
            "\u001b[0;31m---------------------------------------------------------------------------\u001b[0m",
            "\u001b[0;31mKeyError\u001b[0m                                  Traceback (most recent call last)",
            "\u001b[0;32m<ipython-input-5-70ccfe84a913>\u001b[0m in \u001b[0;36m<module>\u001b[0;34m()\u001b[0m\n\u001b[1;32m      1\u001b[0m \u001b[0;31m# Run this cell! What happens when you try to decrypt this next message?\u001b[0m\u001b[0;34m\u001b[0m\u001b[0;34m\u001b[0m\u001b[0;34m\u001b[0m\u001b[0m\n\u001b[0;32m----> 2\u001b[0;31m \u001b[0mencrypt\u001b[0m\u001b[0;34m(\u001b[0m\u001b[0;34m\"i like exploring in the woods\"\u001b[0m\u001b[0;34m)\u001b[0m\u001b[0;34m\u001b[0m\u001b[0;34m\u001b[0m\u001b[0m\n\u001b[0m",
            "\u001b[0;32m<ipython-input-2-f79e8f0a2e1d>\u001b[0m in \u001b[0;36mencrypt\u001b[0;34m(message)\u001b[0m\n\u001b[1;32m      5\u001b[0m         \u001b[0;32mfor\u001b[0m \u001b[0mletter\u001b[0m \u001b[0;32min\u001b[0m \u001b[0mmessage\u001b[0m\u001b[0;34m:\u001b[0m\u001b[0;34m\u001b[0m\u001b[0;34m\u001b[0m\u001b[0m\n\u001b[1;32m      6\u001b[0m                 \u001b[0;32mif\u001b[0m \u001b[0mletter\u001b[0m \u001b[0;34m!=\u001b[0m \u001b[0;34m' '\u001b[0m\u001b[0;34m:\u001b[0m\u001b[0;34m\u001b[0m\u001b[0;34m\u001b[0m\u001b[0m\n\u001b[0;32m----> 7\u001b[0;31m                         \u001b[0mcipher\u001b[0m \u001b[0;34m+=\u001b[0m \u001b[0mmorse_dictionary\u001b[0m\u001b[0;34m[\u001b[0m\u001b[0mletter\u001b[0m\u001b[0;34m]\u001b[0m \u001b[0;34m+\u001b[0m \u001b[0;34m' '\u001b[0m\u001b[0;34m\u001b[0m\u001b[0;34m\u001b[0m\u001b[0m\n\u001b[0m\u001b[1;32m      8\u001b[0m                 \u001b[0;32melse\u001b[0m\u001b[0;34m:\u001b[0m\u001b[0;34m\u001b[0m\u001b[0;34m\u001b[0m\u001b[0m\n\u001b[1;32m      9\u001b[0m                         \u001b[0mcipher\u001b[0m \u001b[0;34m+=\u001b[0m \u001b[0;34m' '\u001b[0m\u001b[0;34m\u001b[0m\u001b[0;34m\u001b[0m\u001b[0m\n",
            "\u001b[0;31mKeyError\u001b[0m: 'x'"
          ]
        }
      ]
    },
    {
      "cell_type": "code",
      "metadata": {
        "id": "3aRMIJRxR_U6",
        "outputId": "39fc1f1b-1941-481f-bf0c-00e593b82c4f",
        "colab": {
          "base_uri": "https://localhost:8080/",
          "height": 35
        }
      },
      "source": [
        "# What happens when we nest these functions inside each other?\n",
        "# What do you think it means when functions are nested?\n",
        "decrypt(encrypt(\"november\"))"
      ],
      "execution_count": null,
      "outputs": [
        {
          "output_type": "execute_result",
          "data": {
            "application/vnd.google.colaboratory.intrinsic+json": {
              "type": "string"
            },
            "text/plain": [
              "'november '"
            ]
          },
          "metadata": {},
          "execution_count": 6
        }
      ]
    },
    {
      "cell_type": "code",
      "metadata": {
        "id": "iBzkD4J41Tbt"
      },
      "source": [
        "# here's a spot to try some encryptions or decryptions for yoursel "
      ],
      "execution_count": null,
      "outputs": []
    }
  ]
}